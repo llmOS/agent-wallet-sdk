{
 "cells": [
  {
   "cell_type": "code",
   "execution_count": 2,
   "metadata": {},
   "outputs": [],
   "source": [
    "from agentwallet import Account\n",
    "# connecting my wallet\n",
    "AGENT_WALLET_API_KEY = \"agent-user-123\"\n",
    "account = Account.from_key(AGENT_WALLET_API_KEY)\n",
    "wallets = account.get_wallets()\n",
    "wallet = account.get_wallet(wallets[0].wallet_uid)"
   ]
  },
  {
   "cell_type": "code",
   "execution_count": 3,
   "metadata": {},
   "outputs": [
    {
     "name": "stdout",
     "output_type": "stream",
     "text": [
      "balance: 10000000\n"
     ]
    }
   ],
   "source": [
    "# checking my wallet balance before transfer\n",
    "balance = wallet.balance()\n",
    "print(\"balance: \" + str(balance))\n",
    "\n",
    "# maybe in the future if we want to enable agent to use credit card\n",
    "# agent_credit_card = wallet.get_credit_cart(\"agent_card1\")"
   ]
  },
  {
   "cell_type": "code",
   "execution_count": 4,
   "metadata": {},
   "outputs": [
    {
     "name": "stdout",
     "output_type": "stream",
     "text": [
      "startup-agent price per call: 10\n"
     ]
    }
   ],
   "source": [
    "import requests\n",
    "# fetching other agent's info (need to know price before can call out) \n",
    "# should happen via our platform/sdk but this is a workaround to show functionality,\n",
    "# so asking directly from startup-agent server atm\n",
    "# ideally -> url = \"http://localhost:5000/agents/startup-agent/info\" -> agentwallet server runs on 5000 locally\n",
    "url = \"http://localhost:5003/info\" # <- startup-agent server\n",
    "headers = {\n",
    "  'Accept': 'application/json',\n",
    "  'Authorization': 'Bearer ' + AGENT_WALLET_API_KEY\n",
    "}\n",
    "response = requests.request(\"GET\", url, headers=headers).json()\n",
    "\n",
    "# get price for the agent\n",
    "price = response[\"price_usd_cents\"]\n",
    "print(\"startup-agent price per call: \" + str(price))"
   ]
  },
  {
   "cell_type": "code",
   "execution_count": 5,
   "metadata": {},
   "outputs": [],
   "source": [
    "# how I see it with SDK\n",
    "# from agentwallet import Agent\n",
    "# startup_agent_info = Agent.get_info(\"startup-agent\")"
   ]
  },
  {
   "cell_type": "code",
   "execution_count": 6,
   "metadata": {},
   "outputs": [
    {
     "name": "stdout",
     "output_type": "stream",
     "text": [
      "NFTPort has successfully secured a substantial funding amount of $26 million from investors.\n"
     ]
    }
   ],
   "source": [
    "# transferring money to other agent account - THIS FN IS NOT NEEDED(maybe later as extra feature)\n",
    "transfer_ok = wallet.transfer(\"email1@email.com\", price)\n",
    "\n",
    "# INSTEAD HOW ONE MESSAGES OTHER AGENT EASILY? - message fn below + transfer fn above in one call?\n",
    "\n",
    "# Again, it should happen via our platform/sdk but this is a workaround to show functionality\n",
    "# so asking directly from startup-agent server atm\n",
    "# ideally -> url = \"http://localhost:5000/agents/startup-agent/chat\" -> agentwallet server runs on 5000 locally\n",
    "import json\n",
    "url = \"http://localhost:5003/v1/chat/completions\" # <- startup-agent server\n",
    "payload = json.dumps({\n",
    "  \"messages\": [\n",
    "    {\n",
    "      \"content\": \"What is NFTPort's funding amount?\",\n",
    "      \"role\": \"user\"\n",
    "    }\n",
    "  ],\n",
    "  \"model\": \"startup-agent\"\n",
    "})\n",
    "headers = {\n",
    "  'Accept': 'application/json',\n",
    "  'Authorization': 'Bearer ' + AGENT_WALLET_API_KEY\n",
    "}\n",
    "response = requests.request(\"POST\", url, headers=headers, data=payload).json()\n",
    "print(response['choices'][0]['message']['content'])"
   ]
  },
  {
   "cell_type": "code",
   "execution_count": 7,
   "metadata": {},
   "outputs": [],
   "source": [
    "# how I see it with SDK\n",
    "# agent_response = Agent.call_agent(\"startup-agent\", messages, price)\n",
    "\n",
    "# I include price as it would act as extra layer of security for the one calling out\n",
    "# + transfer function sends to user email - \"email1@email.com\" - shouldn't be visible in code - only agent addresses"
   ]
  },
  {
   "cell_type": "code",
   "execution_count": 8,
   "metadata": {},
   "outputs": [
    {
     "name": "stdout",
     "output_type": "stream",
     "text": [
      "balance after: -10\n"
     ]
    }
   ],
   "source": [
    "\n",
    "# checking my wallet balance after transfer\n",
    "balance = wallet.balance()\n",
    "print(\"balance after: \" + str(balance))"
   ]
  }
 ],
 "metadata": {
  "kernelspec": {
   "display_name": "agentwallet",
   "language": "python",
   "name": "python3"
  },
  "language_info": {
   "codemirror_mode": {
    "name": "ipython",
    "version": 3
   },
   "file_extension": ".py",
   "mimetype": "text/x-python",
   "name": "python",
   "nbconvert_exporter": "python",
   "pygments_lexer": "ipython3",
   "version": "3.10.13"
  }
 },
 "nbformat": 4,
 "nbformat_minor": 2
}
